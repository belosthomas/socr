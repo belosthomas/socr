{
 "cells": [
  {
   "cell_type": "markdown",
   "metadata": {},
   "source": [
    "First, load a ```LineLocalizator``` and a ```TextRecognizer```."
   ]
  },
  {
   "cell_type": "code",
   "execution_count": 1,
   "metadata": {},
   "outputs": [
    {
     "name": "stdout",
     "output_type": "stream",
     "text": [
      "\u001b[94m[2018-07-19 08:10:01] INFO : Applying xavier initialization...\u001b[0m\n",
      "\u001b[94m[2018-07-19 08:10:01] INFO : Downloading pretrained model from pytorch model zoo...\u001b[0m\n",
      "\u001b[94m[2018-07-19 08:10:01] INFO : Loading pretrained resnet...\u001b[0m\n",
      "\u001b[94m[2018-07-19 08:10:08] INFO : Restoring the weights...\u001b[0m\n",
      "\u001b[94m[2018-07-19 08:10:18] INFO : Loading test database DocumentGenerator...\u001b[0m\n",
      "\u001b[94m[2018-07-19 08:10:18] INFO : Loading test database ICDAR-Baseline...\u001b[0m\n",
      "\u001b[94m[2018-07-19 08:10:19] INFO : Loading test database ICDAR-Baseline...\u001b[0m\n",
      "\u001b[94m[2018-07-19 08:10:19] INFO : Test database length : 7360\u001b[0m\n",
      "\u001b[94m[2018-07-19 08:10:26] INFO : Restoring the weights...\u001b[0m\n",
      "\u001b[94m[2018-07-19 08:10:34] INFO : Loading test database LineGenerator...\u001b[0m\n",
      "\u001b[94m[2018-07-19 08:10:34] INFO : Loading test database IAM...\u001b[0m\n",
      "\u001b[94m[2018-07-19 08:10:34] INFO : Loading test database IAM-One-Line...\u001b[0m\n",
      "\u001b[94m[2018-07-19 08:10:34] INFO : Test database length : 539\u001b[0m\n"
     ]
    }
   ],
   "source": [
    "from socr.line_localizator import LineLocalizator\n",
    "from socr.text_recognizer import TextRecognizer\n",
    "\n",
    "line_localizator = LineLocalizator()\n",
    "text_recognizer = TextRecognizer()"
   ]
  },
  {
   "cell_type": "markdown",
   "metadata": {},
   "source": [
    "Use the ```eval``` method to specify that we want to use the network, and not train it."
   ]
  },
  {
   "cell_type": "code",
   "execution_count": 2,
   "metadata": {},
   "outputs": [
    {
     "name": "stdout",
     "output_type": "stream",
     "text": [
      "\u001b[94m[2018-07-19 08:10:35] INFO : Initializing language model...\u001b[0m\n"
     ]
    }
   ],
   "source": [
    "line_localizator.eval()\n",
    "text_recognizer.eval()"
   ]
  },
  {
   "cell_type": "markdown",
   "metadata": {},
   "source": [
    "Open your image, with pillow for example"
   ]
  },
  {
   "cell_type": "code",
   "execution_count": 3,
   "metadata": {},
   "outputs": [],
   "source": [
    "from PIL import Image\n",
    "\n",
    "image = Image.open(\"examples/test01.png\").convert('RGB')"
   ]
  },
  {
   "cell_type": "markdown",
   "metadata": {},
   "source": [
    "And reisze it, to limit it to 6 * (10 ** 5) pixels"
   ]
  },
  {
   "cell_type": "code",
   "execution_count": 4,
   "metadata": {},
   "outputs": [],
   "source": [
    "import math\n",
    "\n",
    "width, height = image.size\n",
    "new_width = math.sqrt(6 * (10 ** 5) * width / height)\n",
    "new_width = int(new_width)\n",
    "new_height = height * new_width // width\n",
    "\n",
    "if new_width < width:\n",
    "    resized = image.resize((new_width, new_height), Image.ANTIALIAS)\n",
    "else:\n",
    "    resized = image"
   ]
  },
  {
   "cell_type": "markdown",
   "metadata": {},
   "source": [
    "Convert your image to a 3D Numpy array (or a 4D Tensor array)"
   ]
  },
  {
   "cell_type": "code",
   "execution_count": 5,
   "metadata": {},
   "outputs": [],
   "source": [
    "from socr.utils.image import image_pillow_to_numpy\n",
    "image = image_pillow_to_numpy(image)\n",
    "resized = image_pillow_to_numpy(resized)"
   ]
  },
  {
   "cell_type": "markdown",
   "metadata": {},
   "source": [
    "And use the ```extract``` and ```recognize``` methods to extract the texts"
   ]
  },
  {
   "cell_type": "code",
   "execution_count": 6,
   "metadata": {},
   "outputs": [
    {
     "name": "stderr",
     "output_type": "stream",
     "text": [
      "/home/tbelos/anaconda3/lib/python3.6/site-packages/torch/nn/functional.py:1749: UserWarning: Default upsampling behavior when mode=bilinear is changed to align_corners=False since 0.4.0. Please specify align_corners=True if the old behavior is desired. See the documentation of nn.Upsample for details.\n",
      "  \"See the documentation of nn.Upsample for details.\".format(mode))\n"
     ]
    },
    {
     "name": "stdout",
     "output_type": "stream",
     "text": [
      "SRU loaded for gpu 0\n"
     ]
    }
   ],
   "source": [
    "lines, positions = line_localizator.extract(image, resized)\n",
    "texts = text_recognizer.recognize(lines)"
   ]
  },
  {
   "cell_type": "code",
   "execution_count": 7,
   "metadata": {},
   "outputs": [
    {
     "name": "stdout",
     "output_type": "stream",
     "text": [
      "[' e but de cette Exposition ne consiste pas à pré-', '', \"Le sender d'une façon complète et scrupuleusement\", ' méthodique tout lare russe a bravers les différentes', \"époques de son évolution. L'accomplissement d'une\", \" pareille  tache eut eve d'une difficulté insurmontable\", \" et d'une utilité douteuse. Beaucoup de noms, célèbres\", ' jadis, ont actuellement perdu leur gloire, certains', \" temporairement et d'autres pour toujours.' Bien des\", ' artistes, auxquels leurs contemporains prêtaient une', ' importance exagéré, paraissent maintenant dénude', ' de toute valeur, \"ayant produit aucune influence sur', ' l\\'art d\\'aujourd\"oui. Voila comment on s\\'expliquera', \" P'absence voulue des aures de plusieurs peintres,\", \" qui furent trop longtemps considères à l'Occident\", ' comme les seul5 représentants de la Russia artistique', ' et qui trop longtemps défigurèrent aux yeux du public', \" européen le véritable caractère et l'importance réelle\", ' de lari national russe. La présente Exposition est', 'un aperçu du développement de notre art ou par', ' Pail moderne. Tous les cements, qui ont exercé une', \"action immédiate sur l'esprit contemporain de notre\", ' pays, y sont représentes. Cest une fidèle image de la', ' Aussie artistique de nos jours avec son entraîne ment', ' sincère, sa respectueuse Admiration pour le passe et', \" sa foi ardente dans l'avenir.\", ' Serge Diag\"llew.', '']\n"
     ]
    }
   ],
   "source": [
    "print(texts)"
   ]
  },
  {
   "cell_type": "code",
   "execution_count": null,
   "metadata": {},
   "outputs": [],
   "source": []
  }
 ],
 "metadata": {
  "kernelspec": {
   "display_name": "Python 3",
   "language": "python",
   "name": "python3"
  },
  "language_info": {
   "codemirror_mode": {
    "name": "ipython",
    "version": 3
   },
   "file_extension": ".py",
   "mimetype": "text/x-python",
   "name": "python",
   "nbconvert_exporter": "python",
   "pygments_lexer": "ipython3",
   "version": "3.6.5"
  }
 },
 "nbformat": 4,
 "nbformat_minor": 2
}
